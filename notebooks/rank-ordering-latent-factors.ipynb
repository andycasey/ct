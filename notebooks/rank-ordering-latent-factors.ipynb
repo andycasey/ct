{
 "cells": [
  {
   "cell_type": "code",
   "execution_count": 1,
   "metadata": {
    "collapsed": true
   },
   "outputs": [],
   "source": [
    "# Don't do this. Do as I say and not as I code.\n",
    "import sys\n",
    "sys.path.insert(0, \"../\") \n",
    "\n",
    "import numpy as np\n",
    "import operator\n",
    "import matplotlib\n",
    "import matplotlib.pyplot as plt\n",
    "from astropy.table import Table\n",
    "from sklearn.decomposition import PCA\n",
    "\n",
    "from mpl_utils import mpl_style\n",
    "\n",
    "plt.style.use(mpl_style)\n",
    "\n",
    "%matplotlib inline"
   ]
  },
  {
   "cell_type": "code",
   "execution_count": 2,
   "metadata": {
    "collapsed": true
   },
   "outputs": [],
   "source": [
    "galah = Table.read(\"../catalogs/GALAH_DR2.1_catalog.fits\")"
   ]
  },
  {
   "cell_type": "code",
   "execution_count": 3,
   "metadata": {},
   "outputs": [
    {
     "name": "stdout",
     "output_type": "stream",
     "text": [
      "li_fe\n",
      "c_fe\n",
      "o_fe\n",
      "na_fe\n",
      "mg_fe\n",
      "al_fe\n",
      "si_fe\n",
      "ca_fe\n",
      "sc_fe\n",
      "ti_fe\n",
      "v_fe\n",
      "cr_fe\n",
      "mn_fe\n",
      "co_fe\n",
      "ni_fe\n",
      "cu_fe\n",
      "zn_fe\n",
      "y_fe\n",
      "ba_fe\n",
      "la_fe\n",
      "eu_fe\n",
      "264227\n",
      "na_fe 239580\n",
      "mg_fe 226436\n",
      "sc_fe 209213\n",
      "ti_fe 195146\n",
      "zn_fe 179550\n",
      "mn_fe 169286\n",
      "y_fe 155500\n",
      "ca_fe 146109\n",
      "ni_fe 134787\n",
      "cr_fe 125124\n",
      "o_fe 111499\n",
      "si_fe 101675\n",
      "ba_fe 88055\n",
      "v_fe 76477\n",
      "N = 76477, D = 15\n"
     ]
    }
   ],
   "source": [
    "ignore_elements = (\"k\", )\n",
    "element_label_names = [ln for ln in galah.dtype.names \\\n",
    "                       if ln.endswith(\"_fe\") and not ln.startswith((\"flag_\", \"e_\", \"alpha_\")) \\\n",
    "                       and ln.split(\"_\")[0] not in ignore_elements]\n",
    "print(\"\\n\".join(element_label_names))\n",
    "# Select a subset of stars and abundances\n",
    "is_ok = dict()\n",
    "for label_name in element_label_names:\n",
    "    is_ok[label_name] = sum(galah[\"flag_{}\".format(label_name)] == 0)\n",
    "    \n",
    "    use_element_label_names = [k for k, v in sorted(is_ok.items(), key=operator.itemgetter(1))[::-1]][:14]\n",
    "\n",
    "meets_qc = (galah[\"flag_cannon\"] == 0)\n",
    "print(sum(meets_qc))\n",
    "for label_name in use_element_label_names:\n",
    "    meets_qc *= (galah[\"flag_{}\".format(label_name)] == 0) \\\n",
    "              * (np.isfinite(galah[label_name]))\n",
    "    print(label_name, sum(meets_qc))\n",
    "\n",
    "use_element_label_names.append(\"fe_h\")\n",
    "    \n",
    "N = sum(meets_qc)\n",
    "D = len(use_element_label_names)\n",
    "print(\"N = {0}, D = {1}\".format(N, D))  "
   ]
  },
  {
   "cell_type": "code",
   "execution_count": 4,
   "metadata": {},
   "outputs": [
    {
     "name": "stdout",
     "output_type": "stream",
     "text": [
      "264227\n",
      "ca_fe 217755\n",
      "ti_fe 203142\n",
      "si_fe 171683\n",
      "ni_fe 158182\n",
      "o_fe 136152\n",
      "ba_fe 115119\n",
      "y_fe 106909\n",
      "eu_fe 13146\n"
     ]
    }
   ],
   "source": [
    "# ONLY USE WHAT I TELL YU\n",
    "use_element_label_names = [\"fe_h\", \"ca_fe\", \"ti_fe\", \"si_fe\", \"ni_fe\", \n",
    "                           \"o_fe\", \"ba_fe\", \"y_fe\", \"eu_fe\"]\n",
    "\n",
    "\n",
    "meets_qc = (galah[\"flag_cannon\"] == 0)\n",
    "print(sum(meets_qc))\n",
    "for label_name in use_element_label_names:\n",
    "    if label_name == \"fe_h\": continue\n",
    "    meets_qc *= (galah[\"flag_{}\".format(label_name)] == 0) \\\n",
    "              * (np.isfinite(galah[label_name]))\n",
    "    print(label_name, sum(meets_qc))\n",
    "\n",
    "D = len(use_element_label_names)\n",
    "N = sum(meets_qc)"
   ]
  },
  {
   "cell_type": "code",
   "execution_count": 5,
   "metadata": {
    "collapsed": true
   },
   "outputs": [],
   "source": [
    "y = np.array([galah[ln][meets_qc] for ln in use_element_label_names]).T\n",
    "\n",
    "subsample = None\n",
    "\n",
    "if subsample is not None:\n",
    "    print(\"Sub-sampling only {} stars\".format(subsample))\n",
    "    idx = np.random.choice(y.shape[0], subsample, replace=False)\n",
    "    y = y[idx]\n",
    "    \n",
    "\n",
    "fe_h_index = list(use_element_label_names).index(\"fe_h\")\n",
    "for d in range(D):\n",
    "    if d == fe_h_index: continue\n",
    "    y[:, d] += y[:, fe_h_index]\n",
    "    \n",
    "J = 3\n",
    "N, D = y.shape\n",
    "\n",
    "\n",
    "mean = np.mean(y, axis=0)\n",
    "assert mean.size == D\n",
    "y = y - mean\n",
    "\n",
    "element_label_names = [\"{}\".format(ea.split(\"_\")[0]) for ea in use_element_label_names]\n",
    "\n",
    "latex_label_names = [r\"\\textrm{{{0}}}\".format(ea.split(\"_\")[0].title()) \\\n",
    "                     for ea in element_label_names]"
   ]
  },
  {
   "cell_type": "code",
   "execution_count": 6,
   "metadata": {},
   "outputs": [
    {
     "data": {
      "text/plain": [
       "PCA(copy=True, iterated_power='auto', n_components=3, random_state=None,\n",
       "  svd_solver='auto', tol=0.0, whiten=False)"
      ]
     },
     "execution_count": 6,
     "metadata": {},
     "output_type": "execute_result"
    }
   ],
   "source": [
    "pca = PCA(n_components=J)\n",
    "pca.fit(y)"
   ]
  },
  {
   "cell_type": "code",
   "execution_count": 7,
   "metadata": {},
   "outputs": [
    {
     "data": {
      "image/png": "[encoded data removed]",
      "text/plain": [
       "<matplotlib.figure.Figure at 0x101ec1630>"
      ]
     },
     "metadata": {},
     "output_type": "display_data"
    }
   ],
   "source": [
    "def plot_components(components, label_names=None, **kwargs):\n",
    "    J, D = components.shape\n",
    "    \n",
    "    kwds = dict(interpolation=\"nearest\")\n",
    "    kwds.update(kwargs)\n",
    "    \n",
    "    fig, ax  =  plt.subplots()\n",
    "    im = ax.imshow(components, **kwds)\n",
    "    ax.yaxis.set_tick_params(width=0)\n",
    "    ax.set_yticks(np.arange(J))\n",
    "    ax.set_ylabel(r\"\\textrm{J}\")\n",
    "    \n",
    "    ax.xaxis.set_tick_params(width=0)\n",
    "    ax.set_xlabel(r\"\\textrm{D}\")\n",
    "    fig.tight_layout()\n",
    "    \n",
    "    if label_names is not None:\n",
    "        ax.set_xticks(np.arange(D))\n",
    "        ax.set_xticklabels(label_names)\n",
    "    \n",
    "    return  fig\n",
    "\n",
    "\n",
    "fig = plot_components(pca.components_)# label_names=elements)"
   ]
  },
  {
   "cell_type": "code",
   "execution_count": 8,
   "metadata": {
    "collapsed": true
   },
   "outputs": [],
   "source": [
    "# Rank order the components."
   ]
  },
  {
   "cell_type": "code",
   "execution_count": 9,
   "metadata": {},
   "outputs": [
    {
     "data": {
      "text/plain": [
       "array([[0.35737173, 0.03241616, 0.08710327],\n",
       "       [0.26985301, 0.08500662, 0.0685695 ],\n",
       "       [0.30999928, 0.19604617, 0.17746895],\n",
       "       [0.31669146, 0.27546957, 0.04620914],\n",
       "       [0.45299595, 0.08574676, 0.06633279],\n",
       "       [0.08874753, 0.66034656, 0.63376166],\n",
       "       [0.4118147 , 0.58014221, 0.64190359],\n",
       "       [0.40595599, 0.22614294, 0.2883566 ],\n",
       "       [0.23579375, 0.21515061, 0.22986324]])"
      ]
     },
     "execution_count": 9,
     "metadata": {},
     "output_type": "execute_result"
    }
   ],
   "source": [
    "C = np.abs(pca.components_.T)\n",
    "C"
   ]
  },
  {
   "cell_type": "code",
   "execution_count": 10,
   "metadata": {},
   "outputs": [
    {
     "name": "stdout",
     "output_type": "stream",
     "text": [
      "[ 1 11 14  5  4 13  2 15  8  7 25 22 26 24  3 10 23  6  9  0 21 18 12 19\n",
      " 17 20 16]\n",
      "[0 3 4 1 1 4 0 5 2 2 8 7 8 8 1 3 7 2 3 0 7 6 4 6 5 6 5]\n",
      "[1 2 2 2 1 1 2 0 2 1 1 1 2 0 0 1 2 0 0 0 0 0 0 1 2 2 1]\n"
     ]
    },
    {
     "data": {
      "text/plain": [
       "array([[0.35737173, 0.08710327, 0.03241616],\n",
       "       [0.26985301, 0.0685695 , 0.08500662],\n",
       "       [0.30999928, 0.17746895, 0.19604617],\n",
       "       [0.31669146, 0.04620914, 0.27546957],\n",
       "       [0.45299595, 0.06633279, 0.08574676],\n",
       "       [0.08874753, 0.63376166, 0.66034656],\n",
       "       [0.4118147 , 0.64190359, 0.58014221],\n",
       "       [0.40595599, 0.2883566 , 0.22614294],\n",
       "       [0.23579375, 0.22986324, 0.21515061]])"
      ]
     },
     "execution_count": 10,
     "metadata": {},
     "output_type": "execute_result"
    }
   ],
   "source": [
    "#def rank_order_trilu(a):\n",
    "#    \"\"\"\n",
    "#    Rank order the given array such that the entries in the\n",
    "#    upper triangular matrix are closest to zero.\n",
    "#    \"\"\"\n",
    "        \n",
    "# Argsort them.\n",
    "import numpy as  np\n",
    "C = np.copy(C)\n",
    "D, J = C.shape\n",
    "idx = np.argsort(C.flatten())\n",
    "ji = (idx / J).astype(int)\n",
    "di = idx % J\n",
    "print(idx)\n",
    "print(ji)\n",
    "print(di)\n",
    "\n",
    "# We want the smallest value to have the upper right value, and then rank/sort from there.\n",
    "def _swap(C, before, after):\n",
    "    C = np.copy(C)\n",
    "    b = np.copy(C[before])\n",
    "    a = np.copy(C[after])\n",
    "    C[before] = a\n",
    "    C[after] = b\n",
    "    return C\n",
    "    \n",
    "\n",
    "C = _swap(C.T, di[0], 2).T\n",
    "C = _swap(C, ji[0], 0)\n",
    "\n",
    "#swap_row()\n",
    "#swap_column\n",
    "C\n",
    "    \n",
    "    \n"
   ]
  },
  {
   "cell_type": "code",
   "execution_count": 11,
   "metadata": {},
   "outputs": [],
   "source": [
    "C = np.abs(pca.components_.T)\n",
    "\n",
    "def rank_triu_matrix(C):\n",
    "    Q = max(np.triu_indices_from(C, k=1)[1])\n",
    "\n",
    "    ci, cj = (np.argsort(C), np.argsort(C.T))\n",
    "\n",
    "    col_cumsum = np.array([np.cumsum(c.T[i]) for c, i in zip(C.T, cj)])\n",
    "    col_indices = np.argsort(col_cumsum.T[Q])[::-1]\n",
    "    \n",
    "    C = np.copy(C).T[col_indices].T\n",
    "    row_cumsum = np.array([np.cumsum(c[i]) for c, i in zip(C, ci)])\n",
    "\n",
    "    row_indices = np.argsort(row_cumsum.T[Q])\n",
    "\n",
    "    return (row_indices, col_indices)\n"
   ]
  },
  {
   "cell_type": "code",
   "execution_count": 12,
   "metadata": {},
   "outputs": [
    {
     "data": {
      "image/png": "[encoded data removed]",
      "text/plain": [
       "<matplotlib.figure.Figure at 0x109353198>"
      ]
     },
     "metadata": {},
     "output_type": "display_data"
    }
   ],
   "source": [
    "fig = plot_components(C)"
   ]
  },
  {
   "cell_type": "code",
   "execution_count": 13,
   "metadata": {},
   "outputs": [
    {
     "name": "stdout",
     "output_type": "stream",
     "text": [
      "[0 1 2]\n",
      "[1 0 4 3 8 2 7 5 6]\n",
      "[[0.35737173 0.03241616 0.08710327]\n",
      " [0.26985301 0.08500662 0.0685695 ]\n",
      " [0.30999928 0.19604617 0.17746895]\n",
      " [0.31669146 0.27546957 0.04620914]\n",
      " [0.45299595 0.08574676 0.06633279]\n",
      " [0.08874753 0.66034656 0.63376166]\n",
      " [0.4118147  0.58014221 0.64190359]\n",
      " [0.40595599 0.22614294 0.2883566 ]\n",
      " [0.23579375 0.21515061 0.22986324]]\n",
      "[[0.35737173 0.03241616 0.08710327]\n",
      " [0.26985301 0.08500662 0.0685695 ]\n",
      " [0.30999928 0.19604617 0.17746895]\n",
      " [0.31669146 0.27546957 0.04620914]\n",
      " [0.45299595 0.08574676 0.06633279]\n",
      " [0.08874753 0.66034656 0.63376166]\n",
      " [0.4118147  0.58014221 0.64190359]\n",
      " [0.40595599 0.22614294 0.2883566 ]\n",
      " [0.23579375 0.21515061 0.22986324]]\n",
      "[[0.26985301 0.08500662 0.0685695 ]\n",
      " [0.35737173 0.03241616 0.08710327]\n",
      " [0.45299595 0.08574676 0.06633279]\n",
      " [0.31669146 0.27546957 0.04620914]\n",
      " [0.23579375 0.21515061 0.22986324]\n",
      " [0.30999928 0.19604617 0.17746895]\n",
      " [0.40595599 0.22614294 0.2883566 ]\n",
      " [0.08874753 0.66034656 0.63376166]\n",
      " [0.4118147  0.58014221 0.64190359]]\n"
     ]
    }
   ],
   "source": [
    "ri, ci = rank_triu_matrix(C)\n",
    "print(ci)\n",
    "C_rank = C[ri][:, ci]\n",
    "print(ri)\n",
    "print(C)\n",
    "print(C[:, ci])\n",
    "print(C_rank)\n",
    "#print(np.min(C))\n",
    "#fig  = plot_components(C_rank, vmin=0, vmax=np.min(C[np.triu_indices_from(C, 1)]))"
   ]
  },
  {
   "cell_type": "code",
   "execution_count": 14,
   "metadata": {},
   "outputs": [
    {
     "name": "stdout",
     "output_type": "stream",
     "text": [
      "(13146, 9)\n",
      "[1 0 4 3 8 2 7 5 6]\n"
     ]
    }
   ],
   "source": [
    "print(y.shape)\n",
    "print(ri)\n",
    "y = y[:, ri]\n",
    "element_label_names = [element_label_names[i] for i in ri]\n",
    "#data = dict(y=y, N=y.shape[0])"
   ]
  },
  {
   "cell_type": "code",
   "execution_count": 15,
   "metadata": {},
   "outputs": [
    {
     "data": {
      "text/plain": [
       "array([-2.70250546e-19, -2.70250546e-18,  4.59425928e-18,  5.40501092e-18,\n",
       "        2.43225491e-18,  1.08100218e-18,  3.24300655e-18, -1.51340306e-17,\n",
       "       -2.16200437e-18])"
      ]
     },
     "execution_count": 15,
     "metadata": {},
     "output_type": "execute_result"
    }
   ],
   "source": [
    "np.mean(y, axis=0)"
   ]
  },
  {
   "cell_type": "code",
   "execution_count": 16,
   "metadata": {
    "collapsed": true
   },
   "outputs": [],
   "source": [
    "data = dict(y=y, N=y.shape[0], D=y.shape[1], J=3)"
   ]
  },
  {
   "cell_type": "code",
   "execution_count": 17,
   "metadata": {},
   "outputs": [
    {
     "name": "stderr",
     "output_type": "stream",
     "text": [
      "INFO:root:Using pre-compiled model from ../mlf.stan.cached\n",
      "/Users/arc/anaconda2/envs/py3/lib/python3.6/site-packages/pystan/misc.py:362: FutureWarning: Conversion of the second argument of issubdtype from `int` to `np.signedinteger` is deprecated. In future, it will be treated as `np.int64 == np.dtype(int).type`.\n",
      "  if np.issubdtype(np.asarray(v).dtype, int):\n",
      "/Users/arc/anaconda2/envs/py3/lib/python3.6/site-packages/pystan/misc.py:364: FutureWarning: Conversion of the second argument of issubdtype from `float` to `np.floating` is deprecated. In future, it will be treated as `np.float64 == np.dtype(float).type`.\n",
      "  elif np.issubdtype(np.asarray(v).dtype, float):\n"
     ]
    }
   ],
   "source": [
    "import stan_utils as stan\n",
    "\n",
    "default_op_kwds = dict(\n",
    "    init_alpha=0.001,\n",
    "    tol_obj=1e-12,\n",
    "    tol_grad=1e-8,\n",
    "    tol_param=1e-8,\n",
    "    tol_rel_grad=1e7\n",
    ")\n",
    "\n",
    "op_kwds = default_op_kwds.copy()\n",
    "op_kwds.update(\n",
    "    iter=10000,\n",
    "    data=data,\n",
    "    tol_obj=1e-16,\n",
    "    tol_grad=1e-16,\n",
    "    tol_param=1e-16,\n",
    "    tol_rel_grad=1e-16,\n",
    "    init_alpha=1.0,\n",
    ")\n",
    "\n",
    "# TODO: Initialize from the PCA components?\n",
    "\n",
    "model = stan.load_stan_model(\"../mlf.stan\")\n",
    "opt = model.optimizing(**op_kwds)"
   ]
  },
  {
   "cell_type": "code",
   "execution_count": 18,
   "metadata": {
    "collapsed": true
   },
   "outputs": [],
   "source": [
    "def calculate_factor_scores(opt, data):\n",
    "    Ih = np.eye(data[\"J\"])\n",
    "    \n",
    "    L = opt[\"L\"]\n",
    "    Wpsi = L.T / opt[\"psi\"]\n",
    "    cov_z = np.linalg.inv(Ih + np.dot(Wpsi, L))\n",
    "    tmp = np.dot(data[\"y\"], Wpsi.T)\n",
    "    factor_scores = np.dot(tmp, cov_z)\n",
    "    \n",
    "    return factor_scores\n"
   ]
  },
  {
   "cell_type": "code",
   "execution_count": 19,
   "metadata": {
    "collapsed": true
   },
   "outputs": [],
   "source": [
    "factor_scores = calculate_factor_scores(opt, data)"
   ]
  },
  {
   "cell_type": "code",
   "execution_count": 20,
   "metadata": {
    "collapsed": true
   },
   "outputs": [],
   "source": [
    "# Plot the data.\n",
    "from scipy.stats import binned_statistic_2d\n",
    "from matplotlib.colors import LogNorm\n",
    "\n",
    "def corner_hist(x, bins=30, label_names=None, show_ticks=False, **kwargs):\n",
    "    N, D = x.shape\n",
    "    A = D - 1\n",
    "    fig, axes = plt.subplots(A, A, figsize=(2 * A, 2 * A))\n",
    "\n",
    "    kwds = dict(cmap=\"Greys\", norm=LogNorm())\n",
    "    kwds.update(kwargs)\n",
    "    \n",
    "    for i, ax_row in enumerate(axes):\n",
    "        for j, ax in enumerate(ax_row):\n",
    "            if j >= i:\n",
    "                ax.set_visible(False)\n",
    "                continue\n",
    "\n",
    "            H, xedges, yedges, binnumber = binned_statistic_2d(\n",
    "                x.T[i], x.T[j], x.T[i], statistic=\"count\", bins=bins)\n",
    "\n",
    "            imshow_kwds = dict(\n",
    "                aspect=np.ptp(xedges)/np.ptp(yedges), \n",
    "                extent=(xedges[0], xedges[-1], yedges[-1], yedges[0]))\n",
    "            imshow_kwds.update(kwds)\n",
    "            \n",
    "            image = ax.imshow(H.T, **imshow_kwds)\n",
    "            ax.set_ylim(ax.get_ylim()[::-1])\n",
    "        \n",
    "\n",
    "            if ax.is_last_row() and label_names is not None:\n",
    "                ax.set_xlabel(label_names[j])\n",
    "                \n",
    "            if ax.is_first_col() and label_names is not None:\n",
    "                ax.set_ylabel(label_names[i])\n",
    "                \n",
    "            if not show_ticks:\n",
    "                ax.set_xticks([])\n",
    "                ax.set_yticks([])\n",
    "                \n",
    "    fig.tight_layout()\n",
    "    \n",
    "    return fig\n",
    "\n",
    "\n",
    "def corner_scatter(data, label_names=None, show_ticks=False, fig=None,\n",
    "                   **kwargs):\n",
    "    N, D = data.shape\n",
    "    K = D \n",
    "    \n",
    "    if fig is None:\n",
    "        fig, axes = plt.subplots(K, K, figsize=(2 * K, 2 * K))\n",
    "        \n",
    "    else:\n",
    "        axes = fig.axes\n",
    "    \n",
    "    kwds = dict(s=1, c=\"tab:blue\", alpha=0.5)\n",
    "    kwds.update(kwargs)\n",
    "    \n",
    "    axes = np.atleast_2d(axes).T\n",
    "    \n",
    "    for j, y in enumerate(data.T):\n",
    "        for i, x in enumerate(data.T):\n",
    "            \n",
    "            try:\n",
    "                ax = axes[K - i - 1, K - j - 1]\n",
    "            \n",
    "            except:\n",
    "                continue\n",
    "            \n",
    "            if j >= i: \n",
    "                ax.set_visible(False)\n",
    "                continue\n",
    "            \n",
    "            ax.scatter(x, y, **kwds)\n",
    "            \n",
    "            if not show_ticks:\n",
    "                ax.set_xticks([])\n",
    "                ax.set_yticks([])\n",
    "\n",
    "            if ax.is_last_row() and label_names is not None:\n",
    "                ax.set_xlabel(label_names[i])\n",
    "                \n",
    "            if ax.is_first_col() and label_names is not None:\n",
    "                ax.set_ylabel(label_names[j])\n",
    "                \n",
    "    fig.tight_layout()\n",
    "    \n",
    "    return fig\n"
   ]
  },
  {
   "cell_type": "code",
   "execution_count": 21,
   "metadata": {},
   "outputs": [
    {
     "data": {
      "image/png": "[encoded data removed]",
      "text/plain": [
       "<matplotlib.figure.Figure at 0x1138c3208>"
      ]
     },
     "metadata": {},
     "output_type": "display_data"
    }
   ],
   "source": [
    "fig = corner_scatter(factor_scores, show_ticks=True)"
   ]
  },
  {
   "cell_type": "code",
   "execution_count": 22,
   "metadata": {},
   "outputs": [
    {
     "data": {
      "text/plain": [
       "(array([2., 1., 1., 0., 1., 0., 1., 0., 1., 2.]),\n",
       " array([7.14691066e-06, 2.36257453e-03, 4.71800214e-03, 7.07342976e-03,\n",
       "        9.42885737e-03, 1.17842850e-02, 1.41397126e-02, 1.64951402e-02,\n",
       "        1.88505678e-02, 2.12059955e-02, 2.35614231e-02]),\n",
       " <a list of 10 Patch objects>)"
      ]
     },
     "execution_count": 22,
     "metadata": {},
     "output_type": "execute_result"
    },
    {
     "data": {
      "image/png": "[encoded data removed]",
      "text/plain": [
       "<matplotlib.figure.Figure at 0x1183a5080>"
      ]
     },
     "metadata": {},
     "output_type": "display_data"
    }
   ],
   "source": [
    "fig, ax = plt.subplots()\n",
    "ax.hist(opt[\"psi\"])"
   ]
  },
  {
   "cell_type": "code",
   "execution_count": 23,
   "metadata": {},
   "outputs": [
    {
     "ename": "AssertionError",
     "evalue": "",
     "output_type": "error",
     "traceback": [
      "\u001b[0;31m---------------------------------------------------------------------------\u001b[0m",
      "\u001b[0;31mAssertionError\u001b[0m                            Traceback (most recent call last)",
      "\u001b[0;32m<ipython-input-23-f9cfbffd2c3b>\u001b[0m in \u001b[0;36m<module>\u001b[0;34m()\u001b[0m\n\u001b[0;32m----> 1\u001b[0;31m \u001b[0;32massert\u001b[0m \u001b[0;36m0\u001b[0m\u001b[0;34m\u001b[0m\u001b[0m\n\u001b[0m",
      "\u001b[0;31mAssertionError\u001b[0m: "
     ]
    }
   ],
   "source": [
    "assert 0 "
   ]
  },
  {
   "cell_type": "code",
   "execution_count": null,
   "metadata": {},
   "outputs": [],
   "source": [
    "plot_components(np.abs(opt[\"L\"].T), vmin=0, vmax=1e-3)"
   ]
  },
  {
   "cell_type": "code",
   "execution_count": null,
   "metadata": {},
   "outputs": [],
   "source": [
    "fig = plot_components(opt[\"L\"].T)\n"
   ]
  },
  {
   "cell_type": "code",
   "execution_count": null,
   "metadata": {
    "collapsed": true
   },
   "outputs": [],
   "source": [
    "periodic_table = \"\"\"H                                                  He\n",
    "                    Li Be                               B  C  N  O  F  Ne\n",
    "                    Na Mg                               Al Si P  S  Cl Ar\n",
    "                    K  Ca Sc Ti V  Cr Mn Fe Co Ni Cu Zn Ga Ge As Se Br Kr\n",
    "                    Rb Sr Y  Zr Nb Mo Tc Ru Rh Pd Ag Cd In Sn Sb Te I  Xe\n",
    "                    Cs Ba Lu Hf Ta W  Re Os Ir Pt Au Hg Tl Pb Bi Po At Rn\n",
    "                    Fr Ra Lr Rf\"\"\"\n",
    "\n",
    "lanthanoids    =   \"La Ce Pr Nd Pm Sm Eu Gd Tb Dy Ho Er Tm Yb\"\n",
    "actinoids      =   \"Ac Th Pa U  Np Pu Am Cm Bk Cf Es Fm Md No\"\n",
    "\n",
    "periodic_table = periodic_table.replace(\" Ba \", \" Ba \" + lanthanoids + \" \") \\\n",
    "                               .replace(\" Ra \", \" Ra \" + actinoids + \" \") \\\n",
    "                               .split()\n",
    "    \n",
    "# Create an array of Z values for plotting, etc\n",
    "Z = 1 + np.array([periodic_table.index(ln.split(\"_\")[0].title()) for ln in element_label_names])\n",
    "zi = np.argsort(Z)\n",
    "ordered_element_label_names = [element_label_names[i].split(\"_\")[0].title() for i in zi]"
   ]
  },
  {
   "cell_type": "code",
   "execution_count": null,
   "metadata": {},
   "outputs": [],
   "source": [
    "fig, ax = plt.subplots()\n",
    "ax.plot(Z[zi], opt[\"psi\"][zi])\n",
    "ax.set_xticks(Z[zi])\n",
    "ax.set_xticklabels(ordered_element_label_names)"
   ]
  },
  {
   "cell_type": "code",
   "execution_count": null,
   "metadata": {},
   "outputs": [],
   "source": [
    "fig, axes = plt.subplots(J, 1, figsize=(9, 9))\n",
    "ax.set_xticks(Z[zi])\n",
    "ax.set_xticklabels(ordered_element_label_names)\n",
    "axes = np.atleast_1d(axes).flatten()\n",
    "\n",
    "for j, ax in enumerate(axes):\n",
    "    ax.plot(Z[zi], opt[\"L\"].T[j][zi])\n",
    "    ax.set_xticks(Z[zi])\n",
    "    ax.set_xticklabels(ordered_element_label_names)\n",
    "    "
   ]
  },
  {
   "cell_type": "code",
   "execution_count": null,
   "metadata": {},
   "outputs": [],
   "source": [
    "from sklearn.decomposition import FactorAnalysis\n",
    "fa = FactorAnalysis(3)\n",
    "fa.fit(y)"
   ]
  },
  {
   "cell_type": "code",
   "execution_count": null,
   "metadata": {},
   "outputs": [],
   "source": [
    "plot_components(fa.components_)"
   ]
  },
  {
   "cell_type": "code",
   "execution_count": null,
   "metadata": {},
   "outputs": [],
   "source": [
    "fig, ax = plt.subplots()\n",
    "ax.scatter(opt[\"psi\"], fa.noise_variance_)\n",
    "limits = np.array([ax.get_xlim(), ax.get_ylim()])\n",
    "limits = (np.min(limits), np.max(limits))\n",
    "ax.plot(limits, limits, c=\"#666666\", linestyle=\":\", zorder=-1)\n",
    "ax.set_xlim(limits)\n",
    "ax.set_ylim(limits)"
   ]
  },
  {
   "cell_type": "code",
   "execution_count": null,
   "metadata": {},
   "outputs": [],
   "source": [
    "fig, axes = plt.subplots(J, 1, figsize=(3, 9))\n",
    "for j, ax in enumerate(axes):\n",
    "    ax.scatter(fa.components_[j], opt[\"L\"].T[j])\n"
   ]
  },
  {
   "cell_type": "code",
   "execution_count": null,
   "metadata": {},
   "outputs": [],
   "source": [
    "def calculate_factor_scores(opt, data):\n",
    "    Ih = np.eye(data[\"J\"])\n",
    "    \n",
    "    L = opt[\"L\"]\n",
    "    Wpsi = L.T / opt[\"psi\"]\n",
    "    cov_z = np.linalg.inv(Ih + np.dot(Wpsi, L))\n",
    "    tmp = np.dot(data[\"y\"], Wpsi.T)\n",
    "    factor_scores = np.dot(tmp, cov_z)\n",
    "    \n",
    "    return factor_scores\n",
    "\n",
    "fs = calculate_factor_scores(opt, data)\n",
    "\n",
    "fa_scores = fa.transform(y)\n",
    "fig, axes = plt.subplots(J, 1, figsize=(3, 9))\n",
    "for j, ax in enumerate(axes):\n",
    "    ax.scatter(fa_scores.T[j], fs.T[j])"
   ]
  },
  {
   "cell_type": "code",
   "execution_count": null,
   "metadata": {},
   "outputs": [],
   "source": [
    "fig = corner_scatter(fs, alpha=0.05)"
   ]
  },
  {
   "cell_type": "code",
   "execution_count": null,
   "metadata": {},
   "outputs": [],
   "source": [
    "fa_scores.shape"
   ]
  },
  {
   "cell_type": "code",
   "execution_count": null,
   "metadata": {},
   "outputs": [],
   "source": [
    "factor_scores.shape"
   ]
  },
  {
   "cell_type": "code",
   "execution_count": null,
   "metadata": {},
   "outputs": [],
   "source": [
    "ri, ci = rank_triu_matrix(fa.components_.T)"
   ]
  },
  {
   "cell_type": "code",
   "execution_count": null,
   "metadata": {},
   "outputs": [],
   "source": [
    "plot_components(np.abs(D), vmin=0, vmax=1e-1)"
   ]
  },
  {
   "cell_type": "code",
   "execution_count": null,
   "metadata": {
    "collapsed": true
   },
   "outputs": [],
   "source": []
  }
 ],
 "metadata": {
  "kernelspec": {
   "display_name": "Python (py3)",
   "language": "python",
   "name": "py3"
  },
  "language_info": {
   "codemirror_mode": {
    "name": "ipython",
    "version": 3
   },
   "file_extension": ".py",
   "mimetype": "text/x-python",
   "name": "python",
   "nbconvert_exporter": "python",
   "pygments_lexer": "ipython3",
   "version": "3.6.1"
  }
 },
 "nbformat": 4,
 "nbformat_minor": 2
}
